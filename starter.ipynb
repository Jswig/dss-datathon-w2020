{
  "nbformat": 4,
  "nbformat_minor": 0,
  "metadata": {
    "colab": {
      "name": "dss-datathon.ipynb",
      "provenance": [],
      "collapsed_sections": []
    },
    "kernelspec": {
      "name": "python3",
      "display_name": "Python 3"
    }
  },
  "cells": [
    {
      "cell_type": "markdown",
      "metadata": {
        "id": "3pqU-wBka_V_",
        "colab_type": "text"
      },
      "source": [
        "# Data Science Slugs - Datathon\n",
        "\n",
        "Some basic imports:\n"
      ]
    },
    {
      "cell_type": "code",
      "metadata": {
        "id": "IC09ldp6a2sz",
        "colab_type": "code",
        "colab": {}
      },
      "source": [
        "import os\n",
        "import pandas as pd\n",
        "import numpy as np\n",
        "import matplotlib.pyplot as plt\n",
        "import seaborn as sns"
      ],
      "execution_count": 0,
      "outputs": []
    },
    {
      "cell_type": "markdown",
      "metadata": {
        "id": "99wKuFJvcena",
        "colab_type": "text"
      },
      "source": [
        "And this for the most common ML libraries\n"
      ]
    },
    {
      "cell_type": "code",
      "metadata": {
        "id": "_Ivqld5wbNj3",
        "colab_type": "code",
        "colab": {}
      },
      "source": [
        "import torch\n",
        "import tensorflow.keras as keras\n",
        "import sklearn\n",
        "import xgboost as xgb"
      ],
      "execution_count": 0,
      "outputs": []
    },
    {
      "cell_type": "markdown",
      "metadata": {
        "id": "V4VysfAwdRDD",
        "colab_type": "text"
      },
      "source": [
        "## Reading in the Data and Cleaning starter code\n",
        "![alt text](https://)\n",
        "Use this code as a basis for reading in the data files and cleaning the data"
      ]
    },
    {
      "cell_type": "code",
      "metadata": {
        "id": "bkUWLn9SdjT5",
        "colab_type": "code",
        "colab": {}
      },
      "source": [
        "X_train = pd.read_csv('X_train.csv')\n",
        "y_train pd.read_csv('y_train.csv')\n",
        "X_test = pd.read_csv('X_test.csv')"
      ],
      "execution_count": 0,
      "outputs": []
    },
    {
      "cell_type": "markdown",
      "metadata": {
        "id": "UFxeN5MlkLCG",
        "colab_type": "text"
      },
      "source": [
        "### Basic imputation"
      ]
    },
    {
      "cell_type": "code",
      "metadata": {
        "id": "EBhlHkyhkR3L",
        "colab_type": "code",
        "colab": {}
      },
      "source": [
        "imputer = sklearn.impute.SimpleImputer(strategy = 'mean')\n",
        "X_train._c = imputer.fit_transform(X_train)\n",
        "X_test_c = imputer.transform(X_test)"
      ],
      "execution_count": 0,
      "outputs": []
    },
    {
      "cell_type": "markdown",
      "metadata": {
        "id": "OVg0WSo3k302",
        "colab_type": "text"
      },
      "source": [
        "Note that we are not fitting the imputer on the test data. Dealing with missing data is part of the modeling process, so using test data to as an imput to your imputation estimator would cause  **data leakage** \n",
        "\n",
        "Note that this also means that if you want to do K-Fold cross-validation, you need to refit the imputer for each fold. Use `sklearn.pipeline` to make this more convenient. This still applies if you use just a holdout validation set (this is just 1-Fold cross validation)!"
      ]
    },
    {
      "cell_type": "markdown",
      "metadata": {
        "id": "vLPAGgb2lis1",
        "colab_type": "text"
      },
      "source": [
        "## Building the Model\n",
        "\n",
        "A general strategy you should follow:\n",
        "\n",
        "(i) come up with a model idea\n",
        "\n",
        "(ii) build the model \n",
        "\n",
        "(iii) asses model performance using a hold-out set or CV\n",
        "\n",
        "(iv) repeat (i)-(iii) until you are satisfied with the performance\n",
        "\n",
        "(v) refit on the **entire** dataset using the same parameters"
      ]
    },
    {
      "cell_type": "code",
      "metadata": {
        "id": "QShbpnB9lgmQ",
        "colab_type": "code",
        "colab": {}
      },
      "source": [
        "## your code here"
      ],
      "execution_count": 0,
      "outputs": []
    },
    {
      "cell_type": "markdown",
      "metadata": {
        "id": "OJQmhd2yeJvg",
        "colab_type": "text"
      },
      "source": [
        "## Submitting your entry"
      ]
    },
    {
      "cell_type": "code",
      "metadata": {
        "id": "Y7Ekx4DXeJHK",
        "colab_type": "code",
        "colab": {}
      },
      "source": [
        "predictions = pd.read_csv('sample_predictions.csv')\n",
        "\n",
        "## modify predictions here\n",
        "\n",
        "predictions.to_csv('predictions.csv', index = False)"
      ],
      "execution_count": 0,
      "outputs": []
    },
    {
      "cell_type": "markdown",
      "metadata": {
        "id": "Xa21-Tfzdy0e",
        "colab_type": "text"
      },
      "source": [
        "\n",
        "Download your `predictions.csv` file and fill out the following [Google form]().\n"
      ]
    }
  ]
}