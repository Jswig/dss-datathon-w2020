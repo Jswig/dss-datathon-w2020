{
 "cells": [
  {
   "cell_type": "markdown",
   "metadata": {
    "colab_type": "text",
    "id": "3pqU-wBka_V_"
   },
   "source": [
    "# Data Science Slugs - Datathon\n",
    "*10-02-2020 - Anders Poirel*\n",
    "\n",
    "\n",
    "Your task to predict the sales price of single-family residential appartments in Tehran, Iran using data pulled from construction and other economic variables. [1]\n",
    "This dataset has relatively few data points, and a lot of features (105), so watch out for overfitting if you decide to use a complicated algorithm! \n",
    "\n",
    "You might want to use [feature selection](https://en.wikipedia.org/wiki/Feature_selection) and [regularization](https://en.wikipedia.org/wiki/Regularization_(mathematics)) techniques.\n",
    "\n",
    "I've already cleaned and organized the dataset, so you only need to worry about modeling."
   ]
  },
  {
   "cell_type": "markdown",
   "metadata": {},
   "source": [
    "## Acquiring the data"
   ]
  },
  {
   "cell_type": "code",
   "execution_count": 2,
   "metadata": {
    "colab": {},
    "colab_type": "code",
    "id": "IC09ldp6a2sz"
   },
   "outputs": [],
   "source": [
    "import os\n",
    "import pandas as pd"
   ]
  },
  {
   "cell_type": "code",
   "execution_count": null,
   "metadata": {},
   "outputs": [],
   "source": [
    "DATAPATH = '' # modify if data in in a different directory than this notebook"
   ]
  },
  {
   "cell_type": "code",
   "execution_count": 1,
   "metadata": {
    "colab": {},
    "colab_type": "code",
    "id": "bkUWLn9SdjT5"
   },
   "outputs": [
    {
     "ename": "NameError",
     "evalue": "name 'pd' is not defined",
     "output_type": "error",
     "traceback": [
      "\u001b[1;31m---------------------------------------------------------------------------\u001b[0m",
      "\u001b[1;31mNameError\u001b[0m                                 Traceback (most recent call last)",
      "\u001b[1;32m<ipython-input-1-d4b3f6c7588e>\u001b[0m in \u001b[0;36m<module>\u001b[1;34m\u001b[0m\n\u001b[1;32m----> 1\u001b[1;33m \u001b[0mtrain_features\u001b[0m \u001b[1;33m=\u001b[0m \u001b[0mpd\u001b[0m\u001b[1;33m.\u001b[0m\u001b[0mread_csv\u001b[0m\u001b[1;33m(\u001b[0m\u001b[1;34m'train_features.csv'\u001b[0m\u001b[1;33m)\u001b[0m\u001b[1;33m\u001b[0m\u001b[1;33m\u001b[0m\u001b[0m\n\u001b[0m\u001b[0;32m      2\u001b[0m \u001b[0mtrain_labels\u001b[0m \u001b[1;33m=\u001b[0m \u001b[0mpd\u001b[0m\u001b[1;33m.\u001b[0m\u001b[0mread_csv\u001b[0m\u001b[1;33m(\u001b[0m\u001b[1;34m'train_labels.csv'\u001b[0m\u001b[1;33m)\u001b[0m\u001b[1;33m\u001b[0m\u001b[1;33m\u001b[0m\u001b[0m\n\u001b[0;32m      3\u001b[0m \u001b[0mtest_features\u001b[0m \u001b[1;33m=\u001b[0m \u001b[0mpd\u001b[0m\u001b[1;33m.\u001b[0m\u001b[0mread_csv\u001b[0m\u001b[1;33m(\u001b[0m\u001b[1;34m'test_labels.csv'\u001b[0m\u001b[1;33m)\u001b[0m\u001b[1;33m\u001b[0m\u001b[1;33m\u001b[0m\u001b[0m\n",
      "\u001b[1;31mNameError\u001b[0m: name 'pd' is not defined"
     ]
    }
   ],
   "source": [
    "train_features = pd.read_csv(os.path.join(DATAPATH, 'train_features.csv'))\n",
    "train_labels = pd.read_csv(os.path.join(DATAPATH,'train_labels.csv'))\n",
    "test_features = pd.read_csv(os.path.join(DATAPATH,'test_labels.csv'))"
   ]
  },
  {
   "cell_type": "markdown",
   "metadata": {},
   "source": [
    "## Explanation of features\n",
    "\n",
    "![](figures/dataexplanation1.png)\n",
    "\n",
    "![](figures/dataexplanation2.png)"
   ]
  },
  {
   "cell_type": "markdown",
   "metadata": {
    "colab_type": "text",
    "id": "vLPAGgb2lis1"
   },
   "source": [
    "## Building the Model\n",
    "\n",
    "A general strategy you should follow:\n",
    "\n",
    "(i) come up with a model idea\n",
    "\n",
    "(ii) build the model \n",
    "\n",
    "(iii) asses model performance using a hold-out set or CV\n",
    "\n",
    "(iv) repeat (i)-(iii) until you are satisfied with the performance\n",
    "\n",
    "(v) refit on the **entire** dataset using the same parameters"
   ]
  },
  {
   "cell_type": "code",
   "execution_count": null,
   "metadata": {
    "colab": {},
    "colab_type": "code",
    "id": "QShbpnB9lgmQ"
   },
   "outputs": [],
   "source": [
    "## your code here"
   ]
  },
  {
   "cell_type": "markdown",
   "metadata": {
    "colab_type": "text",
    "id": "OJQmhd2yeJvg"
   },
   "source": [
    "## Submitting your entry"
   ]
  },
  {
   "cell_type": "code",
   "execution_count": null,
   "metadata": {
    "colab": {},
    "colab_type": "code",
    "id": "Y7Ekx4DXeJHK"
   },
   "outputs": [],
   "source": [
    "predictions = pd.read_csv('sample_predictions.csv')\n",
    "\n",
    "## modify predictions here\n",
    "\n",
    "predictions.to_csv('predictions.csv', index = False)"
   ]
  },
  {
   "cell_type": "markdown",
   "metadata": {
    "colab_type": "text",
    "id": "Xa21-Tfzdy0e"
   },
   "source": [
    "Find your `predictions.csv` file and fill out the following [Google form]()."
   ]
  },
  {
   "cell_type": "markdown",
   "metadata": {},
   "source": [
    "## References\n",
    "\n",
    "Sources of dataset:\n",
    "\n",
    "[1] Rafiei, M.H. and Adeli, H. (2015). A Novel Machine Learning Model for Estimation of Sale Prices of Real Estate Units.\n",
    "ASCE, Journal of Construction Engineering & Management, 142(2), 04015066."
   ]
  }
 ],
 "metadata": {
  "colab": {
   "collapsed_sections": [],
   "name": "dss-datathon.ipynb",
   "provenance": []
  },
  "kernelspec": {
   "display_name": "Python 3",
   "language": "python",
   "name": "python3"
  },
  "language_info": {
   "codemirror_mode": {
    "name": "ipython",
    "version": 3
   },
   "file_extension": ".py",
   "mimetype": "text/x-python",
   "name": "python",
   "nbconvert_exporter": "python",
   "pygments_lexer": "ipython3",
   "version": "3.7.4"
  }
 },
 "nbformat": 4,
 "nbformat_minor": 4
}
